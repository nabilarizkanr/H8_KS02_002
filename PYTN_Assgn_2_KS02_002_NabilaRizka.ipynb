{
 "cells": [
  {
   "cell_type": "markdown",
   "id": "a7b4d173",
   "metadata": {},
   "source": [
    "## Inferential Statistics"
   ]
  },
  {
   "cell_type": "markdown",
   "id": "5e82e494",
   "metadata": {},
   "source": [
    "### Import Data Library"
   ]
  },
  {
   "cell_type": "code",
   "execution_count": 209,
   "id": "1d9270eb",
   "metadata": {},
   "outputs": [],
   "source": [
    "import pandas as pd\n",
    "import numpy as np\n",
    "%matplotlib inline\n",
    "import matplotlib.pyplot as plt\n",
    "#For Latex Equations\n",
    "from IPython.display import Math, Latex\n",
    "#Displaying Images\n",
    "from IPython.core.display import Image\n",
    "import seaborn as sns\n",
    "sns.set(color_codes=True)\n",
    "sns.set(rc = {'figure.figsize' : (5,5)})\n",
    "import scipy.stats as stats\n",
    "from scipy.stats import spearmanr\n",
    "from scipy.stats import pearsonr"
   ]
  },
  {
   "cell_type": "markdown",
   "id": "73c49810",
   "metadata": {},
   "source": [
    "### Data Processing "
   ]
  },
  {
   "cell_type": "code",
   "execution_count": 171,
   "id": "4db48880",
   "metadata": {},
   "outputs": [],
   "source": [
    "df = pd.read_csv('nyc-rolling-sales.csv')"
   ]
  },
  {
   "cell_type": "code",
   "execution_count": 172,
   "id": "156b5897",
   "metadata": {},
   "outputs": [
    {
     "name": "stdout",
     "output_type": "stream",
     "text": [
      "(84548, 22)\n"
     ]
    }
   ],
   "source": [
    "#Print how many rows and columns inside the data\n",
    "print(df.shape)"
   ]
  },
  {
   "cell_type": "code",
   "execution_count": 173,
   "id": "34b429fc",
   "metadata": {},
   "outputs": [
    {
     "data": {
      "text/html": [
       "<div>\n",
       "<style scoped>\n",
       "    .dataframe tbody tr th:only-of-type {\n",
       "        vertical-align: middle;\n",
       "    }\n",
       "\n",
       "    .dataframe tbody tr th {\n",
       "        vertical-align: top;\n",
       "    }\n",
       "\n",
       "    .dataframe thead th {\n",
       "        text-align: right;\n",
       "    }\n",
       "</style>\n",
       "<table border=\"1\" class=\"dataframe\">\n",
       "  <thead>\n",
       "    <tr style=\"text-align: right;\">\n",
       "      <th></th>\n",
       "      <th>Unnamed: 0</th>\n",
       "      <th>BOROUGH</th>\n",
       "      <th>NEIGHBORHOOD</th>\n",
       "      <th>BUILDING CLASS CATEGORY</th>\n",
       "      <th>TAX CLASS AT PRESENT</th>\n",
       "      <th>BLOCK</th>\n",
       "      <th>LOT</th>\n",
       "      <th>EASE-MENT</th>\n",
       "      <th>BUILDING CLASS AT PRESENT</th>\n",
       "      <th>ADDRESS</th>\n",
       "      <th>...</th>\n",
       "      <th>RESIDENTIAL UNITS</th>\n",
       "      <th>COMMERCIAL UNITS</th>\n",
       "      <th>TOTAL UNITS</th>\n",
       "      <th>LAND SQUARE FEET</th>\n",
       "      <th>GROSS SQUARE FEET</th>\n",
       "      <th>YEAR BUILT</th>\n",
       "      <th>TAX CLASS AT TIME OF SALE</th>\n",
       "      <th>BUILDING CLASS AT TIME OF SALE</th>\n",
       "      <th>SALE PRICE</th>\n",
       "      <th>SALE DATE</th>\n",
       "    </tr>\n",
       "  </thead>\n",
       "  <tbody>\n",
       "    <tr>\n",
       "      <th>0</th>\n",
       "      <td>4</td>\n",
       "      <td>1</td>\n",
       "      <td>ALPHABET CITY</td>\n",
       "      <td>07 RENTALS - WALKUP APARTMENTS</td>\n",
       "      <td>2A</td>\n",
       "      <td>392</td>\n",
       "      <td>6</td>\n",
       "      <td></td>\n",
       "      <td>C2</td>\n",
       "      <td>153 AVENUE B</td>\n",
       "      <td>...</td>\n",
       "      <td>5</td>\n",
       "      <td>0</td>\n",
       "      <td>5</td>\n",
       "      <td>1633</td>\n",
       "      <td>6440</td>\n",
       "      <td>1900</td>\n",
       "      <td>2</td>\n",
       "      <td>C2</td>\n",
       "      <td>6625000</td>\n",
       "      <td>2017-07-19 00:00:00</td>\n",
       "    </tr>\n",
       "    <tr>\n",
       "      <th>1</th>\n",
       "      <td>5</td>\n",
       "      <td>1</td>\n",
       "      <td>ALPHABET CITY</td>\n",
       "      <td>07 RENTALS - WALKUP APARTMENTS</td>\n",
       "      <td>2</td>\n",
       "      <td>399</td>\n",
       "      <td>26</td>\n",
       "      <td></td>\n",
       "      <td>C7</td>\n",
       "      <td>234 EAST 4TH   STREET</td>\n",
       "      <td>...</td>\n",
       "      <td>28</td>\n",
       "      <td>3</td>\n",
       "      <td>31</td>\n",
       "      <td>4616</td>\n",
       "      <td>18690</td>\n",
       "      <td>1900</td>\n",
       "      <td>2</td>\n",
       "      <td>C7</td>\n",
       "      <td>-</td>\n",
       "      <td>2016-12-14 00:00:00</td>\n",
       "    </tr>\n",
       "    <tr>\n",
       "      <th>2</th>\n",
       "      <td>6</td>\n",
       "      <td>1</td>\n",
       "      <td>ALPHABET CITY</td>\n",
       "      <td>07 RENTALS - WALKUP APARTMENTS</td>\n",
       "      <td>2</td>\n",
       "      <td>399</td>\n",
       "      <td>39</td>\n",
       "      <td></td>\n",
       "      <td>C7</td>\n",
       "      <td>197 EAST 3RD   STREET</td>\n",
       "      <td>...</td>\n",
       "      <td>16</td>\n",
       "      <td>1</td>\n",
       "      <td>17</td>\n",
       "      <td>2212</td>\n",
       "      <td>7803</td>\n",
       "      <td>1900</td>\n",
       "      <td>2</td>\n",
       "      <td>C7</td>\n",
       "      <td>-</td>\n",
       "      <td>2016-12-09 00:00:00</td>\n",
       "    </tr>\n",
       "    <tr>\n",
       "      <th>3</th>\n",
       "      <td>7</td>\n",
       "      <td>1</td>\n",
       "      <td>ALPHABET CITY</td>\n",
       "      <td>07 RENTALS - WALKUP APARTMENTS</td>\n",
       "      <td>2B</td>\n",
       "      <td>402</td>\n",
       "      <td>21</td>\n",
       "      <td></td>\n",
       "      <td>C4</td>\n",
       "      <td>154 EAST 7TH STREET</td>\n",
       "      <td>...</td>\n",
       "      <td>10</td>\n",
       "      <td>0</td>\n",
       "      <td>10</td>\n",
       "      <td>2272</td>\n",
       "      <td>6794</td>\n",
       "      <td>1913</td>\n",
       "      <td>2</td>\n",
       "      <td>C4</td>\n",
       "      <td>3936272</td>\n",
       "      <td>2016-09-23 00:00:00</td>\n",
       "    </tr>\n",
       "    <tr>\n",
       "      <th>4</th>\n",
       "      <td>8</td>\n",
       "      <td>1</td>\n",
       "      <td>ALPHABET CITY</td>\n",
       "      <td>07 RENTALS - WALKUP APARTMENTS</td>\n",
       "      <td>2A</td>\n",
       "      <td>404</td>\n",
       "      <td>55</td>\n",
       "      <td></td>\n",
       "      <td>C2</td>\n",
       "      <td>301 EAST 10TH   STREET</td>\n",
       "      <td>...</td>\n",
       "      <td>6</td>\n",
       "      <td>0</td>\n",
       "      <td>6</td>\n",
       "      <td>2369</td>\n",
       "      <td>4615</td>\n",
       "      <td>1900</td>\n",
       "      <td>2</td>\n",
       "      <td>C2</td>\n",
       "      <td>8000000</td>\n",
       "      <td>2016-11-17 00:00:00</td>\n",
       "    </tr>\n",
       "  </tbody>\n",
       "</table>\n",
       "<p>5 rows × 22 columns</p>\n",
       "</div>"
      ],
      "text/plain": [
       "   Unnamed: 0  BOROUGH   NEIGHBORHOOD  \\\n",
       "0           4        1  ALPHABET CITY   \n",
       "1           5        1  ALPHABET CITY   \n",
       "2           6        1  ALPHABET CITY   \n",
       "3           7        1  ALPHABET CITY   \n",
       "4           8        1  ALPHABET CITY   \n",
       "\n",
       "                       BUILDING CLASS CATEGORY TAX CLASS AT PRESENT  BLOCK  \\\n",
       "0  07 RENTALS - WALKUP APARTMENTS                                2A    392   \n",
       "1  07 RENTALS - WALKUP APARTMENTS                                 2    399   \n",
       "2  07 RENTALS - WALKUP APARTMENTS                                 2    399   \n",
       "3  07 RENTALS - WALKUP APARTMENTS                                2B    402   \n",
       "4  07 RENTALS - WALKUP APARTMENTS                                2A    404   \n",
       "\n",
       "   LOT EASE-MENT BUILDING CLASS AT PRESENT                 ADDRESS  ...  \\\n",
       "0    6                                  C2            153 AVENUE B  ...   \n",
       "1   26                                  C7   234 EAST 4TH   STREET  ...   \n",
       "2   39                                  C7   197 EAST 3RD   STREET  ...   \n",
       "3   21                                  C4     154 EAST 7TH STREET  ...   \n",
       "4   55                                  C2  301 EAST 10TH   STREET  ...   \n",
       "\n",
       "  RESIDENTIAL UNITS  COMMERCIAL UNITS  TOTAL UNITS  LAND SQUARE FEET  \\\n",
       "0                 5                 0            5              1633   \n",
       "1                28                 3           31              4616   \n",
       "2                16                 1           17              2212   \n",
       "3                10                 0           10              2272   \n",
       "4                 6                 0            6              2369   \n",
       "\n",
       "   GROSS SQUARE FEET YEAR BUILT TAX CLASS AT TIME OF SALE  \\\n",
       "0               6440       1900                         2   \n",
       "1              18690       1900                         2   \n",
       "2               7803       1900                         2   \n",
       "3               6794       1913                         2   \n",
       "4               4615       1900                         2   \n",
       "\n",
       "   BUILDING CLASS AT TIME OF SALE  SALE PRICE            SALE DATE  \n",
       "0                              C2     6625000  2017-07-19 00:00:00  \n",
       "1                              C7         -    2016-12-14 00:00:00  \n",
       "2                              C7         -    2016-12-09 00:00:00  \n",
       "3                              C4     3936272  2016-09-23 00:00:00  \n",
       "4                              C2     8000000  2016-11-17 00:00:00  \n",
       "\n",
       "[5 rows x 22 columns]"
      ]
     },
     "execution_count": 173,
     "metadata": {},
     "output_type": "execute_result"
    }
   ],
   "source": [
    "df.head()"
   ]
  },
  {
   "cell_type": "code",
   "execution_count": 174,
   "id": "e41b0b19",
   "metadata": {
    "scrolled": true
   },
   "outputs": [
    {
     "data": {
      "text/html": [
       "<div>\n",
       "<style scoped>\n",
       "    .dataframe tbody tr th:only-of-type {\n",
       "        vertical-align: middle;\n",
       "    }\n",
       "\n",
       "    .dataframe tbody tr th {\n",
       "        vertical-align: top;\n",
       "    }\n",
       "\n",
       "    .dataframe thead th {\n",
       "        text-align: right;\n",
       "    }\n",
       "</style>\n",
       "<table border=\"1\" class=\"dataframe\">\n",
       "  <thead>\n",
       "    <tr style=\"text-align: right;\">\n",
       "      <th></th>\n",
       "      <th>count</th>\n",
       "      <th>mean</th>\n",
       "      <th>std</th>\n",
       "      <th>min</th>\n",
       "      <th>25%</th>\n",
       "      <th>50%</th>\n",
       "      <th>75%</th>\n",
       "      <th>max</th>\n",
       "    </tr>\n",
       "  </thead>\n",
       "  <tbody>\n",
       "    <tr>\n",
       "      <th>Unnamed: 0</th>\n",
       "      <td>84548.0</td>\n",
       "      <td>10344.359878</td>\n",
       "      <td>7151.779436</td>\n",
       "      <td>4.0</td>\n",
       "      <td>4231.00</td>\n",
       "      <td>8942.0</td>\n",
       "      <td>15987.25</td>\n",
       "      <td>26739.0</td>\n",
       "    </tr>\n",
       "    <tr>\n",
       "      <th>BOROUGH</th>\n",
       "      <td>84548.0</td>\n",
       "      <td>2.998758</td>\n",
       "      <td>1.289790</td>\n",
       "      <td>1.0</td>\n",
       "      <td>2.00</td>\n",
       "      <td>3.0</td>\n",
       "      <td>4.00</td>\n",
       "      <td>5.0</td>\n",
       "    </tr>\n",
       "    <tr>\n",
       "      <th>BLOCK</th>\n",
       "      <td>84548.0</td>\n",
       "      <td>4237.218976</td>\n",
       "      <td>3568.263407</td>\n",
       "      <td>1.0</td>\n",
       "      <td>1322.75</td>\n",
       "      <td>3311.0</td>\n",
       "      <td>6281.00</td>\n",
       "      <td>16322.0</td>\n",
       "    </tr>\n",
       "    <tr>\n",
       "      <th>LOT</th>\n",
       "      <td>84548.0</td>\n",
       "      <td>376.224015</td>\n",
       "      <td>658.136814</td>\n",
       "      <td>1.0</td>\n",
       "      <td>22.00</td>\n",
       "      <td>50.0</td>\n",
       "      <td>1001.00</td>\n",
       "      <td>9106.0</td>\n",
       "    </tr>\n",
       "    <tr>\n",
       "      <th>ZIP CODE</th>\n",
       "      <td>84548.0</td>\n",
       "      <td>10731.991614</td>\n",
       "      <td>1290.879147</td>\n",
       "      <td>0.0</td>\n",
       "      <td>10305.00</td>\n",
       "      <td>11209.0</td>\n",
       "      <td>11357.00</td>\n",
       "      <td>11694.0</td>\n",
       "    </tr>\n",
       "    <tr>\n",
       "      <th>RESIDENTIAL UNITS</th>\n",
       "      <td>84548.0</td>\n",
       "      <td>2.025264</td>\n",
       "      <td>16.721037</td>\n",
       "      <td>0.0</td>\n",
       "      <td>0.00</td>\n",
       "      <td>1.0</td>\n",
       "      <td>2.00</td>\n",
       "      <td>1844.0</td>\n",
       "    </tr>\n",
       "    <tr>\n",
       "      <th>COMMERCIAL UNITS</th>\n",
       "      <td>84548.0</td>\n",
       "      <td>0.193559</td>\n",
       "      <td>8.713183</td>\n",
       "      <td>0.0</td>\n",
       "      <td>0.00</td>\n",
       "      <td>0.0</td>\n",
       "      <td>0.00</td>\n",
       "      <td>2261.0</td>\n",
       "    </tr>\n",
       "    <tr>\n",
       "      <th>TOTAL UNITS</th>\n",
       "      <td>84548.0</td>\n",
       "      <td>2.249184</td>\n",
       "      <td>18.972584</td>\n",
       "      <td>0.0</td>\n",
       "      <td>1.00</td>\n",
       "      <td>1.0</td>\n",
       "      <td>2.00</td>\n",
       "      <td>2261.0</td>\n",
       "    </tr>\n",
       "    <tr>\n",
       "      <th>YEAR BUILT</th>\n",
       "      <td>84548.0</td>\n",
       "      <td>1789.322976</td>\n",
       "      <td>537.344993</td>\n",
       "      <td>0.0</td>\n",
       "      <td>1920.00</td>\n",
       "      <td>1940.0</td>\n",
       "      <td>1965.00</td>\n",
       "      <td>2017.0</td>\n",
       "    </tr>\n",
       "    <tr>\n",
       "      <th>TAX CLASS AT TIME OF SALE</th>\n",
       "      <td>84548.0</td>\n",
       "      <td>1.657485</td>\n",
       "      <td>0.819341</td>\n",
       "      <td>1.0</td>\n",
       "      <td>1.00</td>\n",
       "      <td>2.0</td>\n",
       "      <td>2.00</td>\n",
       "      <td>4.0</td>\n",
       "    </tr>\n",
       "  </tbody>\n",
       "</table>\n",
       "</div>"
      ],
      "text/plain": [
       "                             count          mean          std  min       25%  \\\n",
       "Unnamed: 0                 84548.0  10344.359878  7151.779436  4.0   4231.00   \n",
       "BOROUGH                    84548.0      2.998758     1.289790  1.0      2.00   \n",
       "BLOCK                      84548.0   4237.218976  3568.263407  1.0   1322.75   \n",
       "LOT                        84548.0    376.224015   658.136814  1.0     22.00   \n",
       "ZIP CODE                   84548.0  10731.991614  1290.879147  0.0  10305.00   \n",
       "RESIDENTIAL UNITS          84548.0      2.025264    16.721037  0.0      0.00   \n",
       "COMMERCIAL UNITS           84548.0      0.193559     8.713183  0.0      0.00   \n",
       "TOTAL UNITS                84548.0      2.249184    18.972584  0.0      1.00   \n",
       "YEAR BUILT                 84548.0   1789.322976   537.344993  0.0   1920.00   \n",
       "TAX CLASS AT TIME OF SALE  84548.0      1.657485     0.819341  1.0      1.00   \n",
       "\n",
       "                               50%       75%      max  \n",
       "Unnamed: 0                  8942.0  15987.25  26739.0  \n",
       "BOROUGH                        3.0      4.00      5.0  \n",
       "BLOCK                       3311.0   6281.00  16322.0  \n",
       "LOT                           50.0   1001.00   9106.0  \n",
       "ZIP CODE                   11209.0  11357.00  11694.0  \n",
       "RESIDENTIAL UNITS              1.0      2.00   1844.0  \n",
       "COMMERCIAL UNITS               0.0      0.00   2261.0  \n",
       "TOTAL UNITS                    1.0      2.00   2261.0  \n",
       "YEAR BUILT                  1940.0   1965.00   2017.0  \n",
       "TAX CLASS AT TIME OF SALE      2.0      2.00      4.0  "
      ]
     },
     "execution_count": 174,
     "metadata": {},
     "output_type": "execute_result"
    }
   ],
   "source": [
    "df.describe().transpose()"
   ]
  },
  {
   "cell_type": "code",
   "execution_count": 175,
   "id": "3582dbcd",
   "metadata": {},
   "outputs": [],
   "source": [
    "df.drop(columns = ['Unnamed: 0'], inplace = True)"
   ]
  },
  {
   "cell_type": "code",
   "execution_count": 176,
   "id": "525e87f6",
   "metadata": {},
   "outputs": [],
   "source": [
    "df.replace(' ', np.nan, inplace = True)"
   ]
  },
  {
   "cell_type": "code",
   "execution_count": 177,
   "id": "c4557549",
   "metadata": {},
   "outputs": [
    {
     "name": "stdout",
     "output_type": "stream",
     "text": [
      "<class 'pandas.core.frame.DataFrame'>\n",
      "RangeIndex: 84548 entries, 0 to 84547\n",
      "Data columns (total 21 columns):\n",
      " #   Column                          Non-Null Count  Dtype  \n",
      "---  ------                          --------------  -----  \n",
      " 0   BOROUGH                         84548 non-null  int64  \n",
      " 1   NEIGHBORHOOD                    84548 non-null  object \n",
      " 2   BUILDING CLASS CATEGORY         84548 non-null  object \n",
      " 3   TAX CLASS AT PRESENT            83810 non-null  object \n",
      " 4   BLOCK                           84548 non-null  int64  \n",
      " 5   LOT                             84548 non-null  int64  \n",
      " 6   EASE-MENT                       0 non-null      float64\n",
      " 7   BUILDING CLASS AT PRESENT       83810 non-null  object \n",
      " 8   ADDRESS                         84548 non-null  object \n",
      " 9   APARTMENT NUMBER                19052 non-null  object \n",
      " 10  ZIP CODE                        84548 non-null  int64  \n",
      " 11  RESIDENTIAL UNITS               84548 non-null  int64  \n",
      " 12  COMMERCIAL UNITS                84548 non-null  int64  \n",
      " 13  TOTAL UNITS                     84548 non-null  int64  \n",
      " 14  LAND SQUARE FEET                84548 non-null  object \n",
      " 15  GROSS SQUARE FEET               84548 non-null  object \n",
      " 16  YEAR BUILT                      84548 non-null  int64  \n",
      " 17  TAX CLASS AT TIME OF SALE       84548 non-null  int64  \n",
      " 18  BUILDING CLASS AT TIME OF SALE  84548 non-null  object \n",
      " 19  SALE PRICE                      84548 non-null  object \n",
      " 20  SALE DATE                       84548 non-null  object \n",
      "dtypes: float64(1), int64(9), object(11)\n",
      "memory usage: 13.5+ MB\n"
     ]
    }
   ],
   "source": [
    "df.info()"
   ]
  },
  {
   "cell_type": "code",
   "execution_count": 178,
   "id": "fa7bed4e",
   "metadata": {},
   "outputs": [],
   "source": [
    "df.drop(columns = ['EASE-MENT'], inplace = True)"
   ]
  },
  {
   "cell_type": "code",
   "execution_count": 179,
   "id": "28050db0",
   "metadata": {},
   "outputs": [
    {
     "name": "stdout",
     "output_type": "stream",
     "text": [
      "Index(['NEIGHBORHOOD', 'BUILDING CLASS CATEGORY', 'TAX CLASS AT PRESENT',\n",
      "       'BUILDING CLASS AT PRESENT', 'ADDRESS', 'APARTMENT NUMBER',\n",
      "       'LAND SQUARE FEET', 'GROSS SQUARE FEET',\n",
      "       'BUILDING CLASS AT TIME OF SALE', 'SALE PRICE', 'SALE DATE'],\n",
      "      dtype='object')\n"
     ]
    }
   ],
   "source": [
    "#Mengidentifikasi kolom object\n",
    "print(df.select_dtypes(['object']).columns)"
   ]
  },
  {
   "cell_type": "code",
   "execution_count": 180,
   "id": "d932805f",
   "metadata": {},
   "outputs": [
    {
     "name": "stdout",
     "output_type": "stream",
     "text": [
      "Index(['BOROUGH', 'BLOCK', 'LOT', 'ZIP CODE', 'RESIDENTIAL UNITS',\n",
      "       'COMMERCIAL UNITS', 'TOTAL UNITS', 'YEAR BUILT',\n",
      "       'TAX CLASS AT TIME OF SALE'],\n",
      "      dtype='object')\n"
     ]
    }
   ],
   "source": [
    "#Mengidentifikasi kolom int\n",
    "print(df.select_dtypes(['int64']).columns)"
   ]
  },
  {
   "cell_type": "code",
   "execution_count": 181,
   "id": "1bc2b191",
   "metadata": {},
   "outputs": [],
   "source": [
    "df['BOROUGH'] = df['BOROUGH'].astype(str)\n",
    "df['BOROUGH'] = df['BOROUGH'].str.replace(\"1\", \"Manhattan\")\n",
    "df['BOROUGH'] = df['BOROUGH'].str.replace(\"2\", \"Bronx\")\n",
    "df['BOROUGH'] = df['BOROUGH'].str.replace(\"3\", \"Brooklyn\")\n",
    "df['BOROUGH'] = df['BOROUGH'].str.replace(\"4\", \"Queens\")\n",
    "df['BOROUGH'] = df['BOROUGH'].str.replace(\"5\", \"Staten Island\")"
   ]
  },
  {
   "cell_type": "code",
   "execution_count": 182,
   "id": "75552b07",
   "metadata": {
    "scrolled": true
   },
   "outputs": [
    {
     "data": {
      "text/plain": [
       "BOROUGH                               0\n",
       "NEIGHBORHOOD                          0\n",
       "BUILDING CLASS CATEGORY               0\n",
       "TAX CLASS AT PRESENT                738\n",
       "BLOCK                                 0\n",
       "LOT                                   0\n",
       "BUILDING CLASS AT PRESENT           738\n",
       "ADDRESS                               0\n",
       "APARTMENT NUMBER                  65496\n",
       "ZIP CODE                              0\n",
       "RESIDENTIAL UNITS                     0\n",
       "COMMERCIAL UNITS                      0\n",
       "TOTAL UNITS                           0\n",
       "LAND SQUARE FEET                      0\n",
       "GROSS SQUARE FEET                     0\n",
       "YEAR BUILT                            0\n",
       "TAX CLASS AT TIME OF SALE             0\n",
       "BUILDING CLASS AT TIME OF SALE        0\n",
       "SALE PRICE                            0\n",
       "SALE DATE                             0\n",
       "dtype: int64"
      ]
     },
     "execution_count": 182,
     "metadata": {},
     "output_type": "execute_result"
    }
   ],
   "source": [
    "df.isnull().sum()"
   ]
  },
  {
   "cell_type": "code",
   "execution_count": 183,
   "id": "1856ab9a",
   "metadata": {
    "scrolled": true
   },
   "outputs": [
    {
     "data": {
      "text/plain": [
       "BOROUGH                            0.000000\n",
       "NEIGHBORHOOD                       0.000000\n",
       "BUILDING CLASS CATEGORY            0.000000\n",
       "TAX CLASS AT PRESENT               0.872877\n",
       "BLOCK                              0.000000\n",
       "LOT                                0.000000\n",
       "BUILDING CLASS AT PRESENT          0.872877\n",
       "ADDRESS                            0.000000\n",
       "APARTMENT NUMBER                  77.466055\n",
       "ZIP CODE                           0.000000\n",
       "RESIDENTIAL UNITS                  0.000000\n",
       "COMMERCIAL UNITS                   0.000000\n",
       "TOTAL UNITS                        0.000000\n",
       "LAND SQUARE FEET                   0.000000\n",
       "GROSS SQUARE FEET                  0.000000\n",
       "YEAR BUILT                         0.000000\n",
       "TAX CLASS AT TIME OF SALE          0.000000\n",
       "BUILDING CLASS AT TIME OF SALE     0.000000\n",
       "SALE PRICE                         0.000000\n",
       "SALE DATE                          0.000000\n",
       "dtype: float64"
      ]
     },
     "execution_count": 183,
     "metadata": {},
     "output_type": "execute_result"
    }
   ],
   "source": [
    "df.isnull().sum()/len(df)*100"
   ]
  },
  {
   "cell_type": "code",
   "execution_count": 184,
   "id": "d771a544",
   "metadata": {
    "scrolled": true
   },
   "outputs": [
    {
     "data": {
      "image/png": "[encoded data removed]",
      "text/plain": [
       "<Figure size 576x360 with 1 Axes>"
      ]
     },
     "metadata": {},
     "output_type": "display_data"
    }
   ],
   "source": [
    "fig, ax = plt.subplots(figsize=(8,5))\n",
    "sns.set(font_scale=1)\n",
    "sns.heatmap(df.isnull(),yticklabels = False, cbar = False, cmap = 'Greys_r')\n",
    "plt.show()"
   ]
  },
  {
   "cell_type": "code",
   "execution_count": 185,
   "id": "2236b121",
   "metadata": {},
   "outputs": [],
   "source": [
    "df = df.dropna()"
   ]
  },
  {
   "cell_type": "code",
   "execution_count": 186,
   "id": "39642e43",
   "metadata": {
    "scrolled": true
   },
   "outputs": [
    {
     "data": {
      "text/plain": [
       "BOROUGH                           0\n",
       "NEIGHBORHOOD                      0\n",
       "BUILDING CLASS CATEGORY           0\n",
       "TAX CLASS AT PRESENT              0\n",
       "BLOCK                             0\n",
       "LOT                               0\n",
       "BUILDING CLASS AT PRESENT         0\n",
       "ADDRESS                           0\n",
       "APARTMENT NUMBER                  0\n",
       "ZIP CODE                          0\n",
       "RESIDENTIAL UNITS                 0\n",
       "COMMERCIAL UNITS                  0\n",
       "TOTAL UNITS                       0\n",
       "LAND SQUARE FEET                  0\n",
       "GROSS SQUARE FEET                 0\n",
       "YEAR BUILT                        0\n",
       "TAX CLASS AT TIME OF SALE         0\n",
       "BUILDING CLASS AT TIME OF SALE    0\n",
       "SALE PRICE                        0\n",
       "SALE DATE                         0\n",
       "dtype: int64"
      ]
     },
     "execution_count": 186,
     "metadata": {},
     "output_type": "execute_result"
    }
   ],
   "source": [
    "df.isnull().sum()"
   ]
  },
  {
   "cell_type": "code",
   "execution_count": 187,
   "id": "fc35f86c",
   "metadata": {
    "scrolled": true
   },
   "outputs": [
    {
     "data": {
      "text/html": [
       "<div>\n",
       "<style scoped>\n",
       "    .dataframe tbody tr th:only-of-type {\n",
       "        vertical-align: middle;\n",
       "    }\n",
       "\n",
       "    .dataframe tbody tr th {\n",
       "        vertical-align: top;\n",
       "    }\n",
       "\n",
       "    .dataframe thead th {\n",
       "        text-align: right;\n",
       "    }\n",
       "</style>\n",
       "<table border=\"1\" class=\"dataframe\">\n",
       "  <thead>\n",
       "    <tr style=\"text-align: right;\">\n",
       "      <th></th>\n",
       "      <th>BOROUGH</th>\n",
       "      <th>NEIGHBORHOOD</th>\n",
       "      <th>BUILDING CLASS CATEGORY</th>\n",
       "      <th>TAX CLASS AT PRESENT</th>\n",
       "      <th>BLOCK</th>\n",
       "      <th>LOT</th>\n",
       "      <th>BUILDING CLASS AT PRESENT</th>\n",
       "      <th>ADDRESS</th>\n",
       "      <th>APARTMENT NUMBER</th>\n",
       "      <th>ZIP CODE</th>\n",
       "      <th>RESIDENTIAL UNITS</th>\n",
       "      <th>COMMERCIAL UNITS</th>\n",
       "      <th>TOTAL UNITS</th>\n",
       "      <th>LAND SQUARE FEET</th>\n",
       "      <th>GROSS SQUARE FEET</th>\n",
       "      <th>YEAR BUILT</th>\n",
       "      <th>TAX CLASS AT TIME OF SALE</th>\n",
       "      <th>BUILDING CLASS AT TIME OF SALE</th>\n",
       "      <th>SALE PRICE</th>\n",
       "      <th>SALE DATE</th>\n",
       "    </tr>\n",
       "  </thead>\n",
       "  <tbody>\n",
       "    <tr>\n",
       "      <th>73</th>\n",
       "      <td>Manhattan</td>\n",
       "      <td>ALPHABET CITY</td>\n",
       "      <td>11A CONDO-RENTALS</td>\n",
       "      <td>2</td>\n",
       "      <td>385</td>\n",
       "      <td>1102</td>\n",
       "      <td>RR</td>\n",
       "      <td>254 EAST 2ND STREET</td>\n",
       "      <td>RES</td>\n",
       "      <td>10009</td>\n",
       "      <td>47</td>\n",
       "      <td>0</td>\n",
       "      <td>47</td>\n",
       "      <td>-</td>\n",
       "      <td>36472</td>\n",
       "      <td>2005</td>\n",
       "      <td>2</td>\n",
       "      <td>RR</td>\n",
       "      <td>28000000</td>\n",
       "      <td>2016-10-13 00:00:00</td>\n",
       "    </tr>\n",
       "    <tr>\n",
       "      <th>75</th>\n",
       "      <td>Manhattan</td>\n",
       "      <td>ALPHABET CITY</td>\n",
       "      <td>11A CONDO-RENTALS</td>\n",
       "      <td>2</td>\n",
       "      <td>397</td>\n",
       "      <td>1301</td>\n",
       "      <td>RR</td>\n",
       "      <td>250 EAST HOUSTON STREET</td>\n",
       "      <td>UNIT1</td>\n",
       "      <td>10002</td>\n",
       "      <td>132</td>\n",
       "      <td>0</td>\n",
       "      <td>132</td>\n",
       "      <td>33650</td>\n",
       "      <td>-</td>\n",
       "      <td>1989</td>\n",
       "      <td>2</td>\n",
       "      <td>RR</td>\n",
       "      <td>52625000</td>\n",
       "      <td>2016-10-19 00:00:00</td>\n",
       "    </tr>\n",
       "    <tr>\n",
       "      <th>76</th>\n",
       "      <td>Manhattan</td>\n",
       "      <td>ALPHABET CITY</td>\n",
       "      <td>12 CONDOS - WALKUP APARTMENTS</td>\n",
       "      <td>2</td>\n",
       "      <td>386</td>\n",
       "      <td>1002</td>\n",
       "      <td>R2</td>\n",
       "      <td>211 EAST 3RD   STREET</td>\n",
       "      <td>1B</td>\n",
       "      <td>10009</td>\n",
       "      <td>1</td>\n",
       "      <td>0</td>\n",
       "      <td>1</td>\n",
       "      <td>-</td>\n",
       "      <td>-</td>\n",
       "      <td>0</td>\n",
       "      <td>2</td>\n",
       "      <td>R2</td>\n",
       "      <td>620000</td>\n",
       "      <td>2016-12-30 00:00:00</td>\n",
       "    </tr>\n",
       "    <tr>\n",
       "      <th>77</th>\n",
       "      <td>Manhattan</td>\n",
       "      <td>ALPHABET CITY</td>\n",
       "      <td>12 CONDOS - WALKUP APARTMENTS</td>\n",
       "      <td>2</td>\n",
       "      <td>398</td>\n",
       "      <td>1039</td>\n",
       "      <td>R2</td>\n",
       "      <td>182 EAST 2ND   STREET</td>\n",
       "      <td>6E</td>\n",
       "      <td>10009</td>\n",
       "      <td>1</td>\n",
       "      <td>0</td>\n",
       "      <td>1</td>\n",
       "      <td>-</td>\n",
       "      <td>-</td>\n",
       "      <td>0</td>\n",
       "      <td>2</td>\n",
       "      <td>R2</td>\n",
       "      <td>-</td>\n",
       "      <td>2017-02-24 00:00:00</td>\n",
       "    </tr>\n",
       "    <tr>\n",
       "      <th>78</th>\n",
       "      <td>Manhattan</td>\n",
       "      <td>ALPHABET CITY</td>\n",
       "      <td>12 CONDOS - WALKUP APARTMENTS</td>\n",
       "      <td>2</td>\n",
       "      <td>405</td>\n",
       "      <td>1211</td>\n",
       "      <td>R2</td>\n",
       "      <td>511 EAST 11TH STREET</td>\n",
       "      <td>C3</td>\n",
       "      <td>10009</td>\n",
       "      <td>1</td>\n",
       "      <td>0</td>\n",
       "      <td>1</td>\n",
       "      <td>-</td>\n",
       "      <td>-</td>\n",
       "      <td>0</td>\n",
       "      <td>2</td>\n",
       "      <td>R2</td>\n",
       "      <td>-</td>\n",
       "      <td>2017-07-20 00:00:00</td>\n",
       "    </tr>\n",
       "    <tr>\n",
       "      <th>...</th>\n",
       "      <td>...</td>\n",
       "      <td>...</td>\n",
       "      <td>...</td>\n",
       "      <td>...</td>\n",
       "      <td>...</td>\n",
       "      <td>...</td>\n",
       "      <td>...</td>\n",
       "      <td>...</td>\n",
       "      <td>...</td>\n",
       "      <td>...</td>\n",
       "      <td>...</td>\n",
       "      <td>...</td>\n",
       "      <td>...</td>\n",
       "      <td>...</td>\n",
       "      <td>...</td>\n",
       "      <td>...</td>\n",
       "      <td>...</td>\n",
       "      <td>...</td>\n",
       "      <td>...</td>\n",
       "      <td>...</td>\n",
       "    </tr>\n",
       "    <tr>\n",
       "      <th>84412</th>\n",
       "      <td>Staten Island</td>\n",
       "      <td>WILLOWBROOK</td>\n",
       "      <td>44 CONDO PARKING</td>\n",
       "      <td>4</td>\n",
       "      <td>1965</td>\n",
       "      <td>1154</td>\n",
       "      <td>RG</td>\n",
       "      <td>1235 FOREST HILL ROAD</td>\n",
       "      <td>P31</td>\n",
       "      <td>10314</td>\n",
       "      <td>0</td>\n",
       "      <td>0</td>\n",
       "      <td>1</td>\n",
       "      <td>-</td>\n",
       "      <td>-</td>\n",
       "      <td>2015</td>\n",
       "      <td>4</td>\n",
       "      <td>RG</td>\n",
       "      <td>-</td>\n",
       "      <td>2017-06-01 00:00:00</td>\n",
       "    </tr>\n",
       "    <tr>\n",
       "      <th>84413</th>\n",
       "      <td>Staten Island</td>\n",
       "      <td>WILLOWBROOK</td>\n",
       "      <td>44 CONDO PARKING</td>\n",
       "      <td>4</td>\n",
       "      <td>1965</td>\n",
       "      <td>1157</td>\n",
       "      <td>RG</td>\n",
       "      <td>1235 FOREST HILL ROAD</td>\n",
       "      <td>P34</td>\n",
       "      <td>10314</td>\n",
       "      <td>0</td>\n",
       "      <td>0</td>\n",
       "      <td>1</td>\n",
       "      <td>-</td>\n",
       "      <td>-</td>\n",
       "      <td>2015</td>\n",
       "      <td>4</td>\n",
       "      <td>RG</td>\n",
       "      <td>-</td>\n",
       "      <td>2017-04-03 00:00:00</td>\n",
       "    </tr>\n",
       "    <tr>\n",
       "      <th>84414</th>\n",
       "      <td>Staten Island</td>\n",
       "      <td>WILLOWBROOK</td>\n",
       "      <td>44 CONDO PARKING</td>\n",
       "      <td>4</td>\n",
       "      <td>1965</td>\n",
       "      <td>1158</td>\n",
       "      <td>RG</td>\n",
       "      <td>1235 FOREST HILL ROAD</td>\n",
       "      <td>P35</td>\n",
       "      <td>10314</td>\n",
       "      <td>0</td>\n",
       "      <td>0</td>\n",
       "      <td>1</td>\n",
       "      <td>-</td>\n",
       "      <td>-</td>\n",
       "      <td>2015</td>\n",
       "      <td>4</td>\n",
       "      <td>RG</td>\n",
       "      <td>-</td>\n",
       "      <td>2017-04-28 00:00:00</td>\n",
       "    </tr>\n",
       "    <tr>\n",
       "      <th>84415</th>\n",
       "      <td>Staten Island</td>\n",
       "      <td>WILLOWBROOK</td>\n",
       "      <td>44 CONDO PARKING</td>\n",
       "      <td>4</td>\n",
       "      <td>1965</td>\n",
       "      <td>1159</td>\n",
       "      <td>RG</td>\n",
       "      <td>1235 FOREST HILL ROAD</td>\n",
       "      <td>P36</td>\n",
       "      <td>10314</td>\n",
       "      <td>0</td>\n",
       "      <td>0</td>\n",
       "      <td>1</td>\n",
       "      <td>-</td>\n",
       "      <td>-</td>\n",
       "      <td>2015</td>\n",
       "      <td>4</td>\n",
       "      <td>RG</td>\n",
       "      <td>-</td>\n",
       "      <td>2017-04-24 00:00:00</td>\n",
       "    </tr>\n",
       "    <tr>\n",
       "      <th>84416</th>\n",
       "      <td>Staten Island</td>\n",
       "      <td>WILLOWBROOK</td>\n",
       "      <td>44 CONDO PARKING</td>\n",
       "      <td>4</td>\n",
       "      <td>1965</td>\n",
       "      <td>1160</td>\n",
       "      <td>RG</td>\n",
       "      <td>1235 FOREST HILL ROAD</td>\n",
       "      <td>P37</td>\n",
       "      <td>10314</td>\n",
       "      <td>0</td>\n",
       "      <td>0</td>\n",
       "      <td>1</td>\n",
       "      <td>-</td>\n",
       "      <td>-</td>\n",
       "      <td>2015</td>\n",
       "      <td>4</td>\n",
       "      <td>RG</td>\n",
       "      <td>-</td>\n",
       "      <td>2017-06-19 00:00:00</td>\n",
       "    </tr>\n",
       "  </tbody>\n",
       "</table>\n",
       "<p>19052 rows × 20 columns</p>\n",
       "</div>"
      ],
      "text/plain": [
       "             BOROUGH   NEIGHBORHOOD  \\\n",
       "73         Manhattan  ALPHABET CITY   \n",
       "75         Manhattan  ALPHABET CITY   \n",
       "76         Manhattan  ALPHABET CITY   \n",
       "77         Manhattan  ALPHABET CITY   \n",
       "78         Manhattan  ALPHABET CITY   \n",
       "...              ...            ...   \n",
       "84412  Staten Island    WILLOWBROOK   \n",
       "84413  Staten Island    WILLOWBROOK   \n",
       "84414  Staten Island    WILLOWBROOK   \n",
       "84415  Staten Island    WILLOWBROOK   \n",
       "84416  Staten Island    WILLOWBROOK   \n",
       "\n",
       "                            BUILDING CLASS CATEGORY TAX CLASS AT PRESENT  \\\n",
       "73     11A CONDO-RENTALS                                               2   \n",
       "75     11A CONDO-RENTALS                                               2   \n",
       "76      12 CONDOS - WALKUP APARTMENTS                                  2   \n",
       "77      12 CONDOS - WALKUP APARTMENTS                                  2   \n",
       "78      12 CONDOS - WALKUP APARTMENTS                                  2   \n",
       "...                                             ...                  ...   \n",
       "84412   44 CONDO PARKING                                               4   \n",
       "84413   44 CONDO PARKING                                               4   \n",
       "84414   44 CONDO PARKING                                               4   \n",
       "84415   44 CONDO PARKING                                               4   \n",
       "84416   44 CONDO PARKING                                               4   \n",
       "\n",
       "       BLOCK   LOT BUILDING CLASS AT PRESENT                  ADDRESS  \\\n",
       "73       385  1102                        RR      254 EAST 2ND STREET   \n",
       "75       397  1301                        RR  250 EAST HOUSTON STREET   \n",
       "76       386  1002                        R2    211 EAST 3RD   STREET   \n",
       "77       398  1039                        R2    182 EAST 2ND   STREET   \n",
       "78       405  1211                        R2     511 EAST 11TH STREET   \n",
       "...      ...   ...                       ...                      ...   \n",
       "84412   1965  1154                        RG    1235 FOREST HILL ROAD   \n",
       "84413   1965  1157                        RG    1235 FOREST HILL ROAD   \n",
       "84414   1965  1158                        RG    1235 FOREST HILL ROAD   \n",
       "84415   1965  1159                        RG    1235 FOREST HILL ROAD   \n",
       "84416   1965  1160                        RG    1235 FOREST HILL ROAD   \n",
       "\n",
       "      APARTMENT NUMBER  ZIP CODE  RESIDENTIAL UNITS  COMMERCIAL UNITS  \\\n",
       "73                 RES     10009                 47                 0   \n",
       "75               UNIT1     10002                132                 0   \n",
       "76                  1B     10009                  1                 0   \n",
       "77                  6E     10009                  1                 0   \n",
       "78                  C3     10009                  1                 0   \n",
       "...                ...       ...                ...               ...   \n",
       "84412              P31     10314                  0                 0   \n",
       "84413              P34     10314                  0                 0   \n",
       "84414              P35     10314                  0                 0   \n",
       "84415              P36     10314                  0                 0   \n",
       "84416              P37     10314                  0                 0   \n",
       "\n",
       "       TOTAL UNITS LAND SQUARE FEET GROSS SQUARE FEET  YEAR BUILT  \\\n",
       "73              47              -               36472        2005   \n",
       "75             132            33650               -          1989   \n",
       "76               1              -                 -             0   \n",
       "77               1              -                 -             0   \n",
       "78               1              -                 -             0   \n",
       "...            ...              ...               ...         ...   \n",
       "84412            1              -                 -          2015   \n",
       "84413            1              -                 -          2015   \n",
       "84414            1              -                 -          2015   \n",
       "84415            1              -                 -          2015   \n",
       "84416            1              -                 -          2015   \n",
       "\n",
       "       TAX CLASS AT TIME OF SALE BUILDING CLASS AT TIME OF SALE SALE PRICE  \\\n",
       "73                             2                             RR   28000000   \n",
       "75                             2                             RR   52625000   \n",
       "76                             2                             R2     620000   \n",
       "77                             2                             R2        -     \n",
       "78                             2                             R2        -     \n",
       "...                          ...                            ...        ...   \n",
       "84412                          4                             RG        -     \n",
       "84413                          4                             RG        -     \n",
       "84414                          4                             RG        -     \n",
       "84415                          4                             RG        -     \n",
       "84416                          4                             RG        -     \n",
       "\n",
       "                 SALE DATE  \n",
       "73     2016-10-13 00:00:00  \n",
       "75     2016-10-19 00:00:00  \n",
       "76     2016-12-30 00:00:00  \n",
       "77     2017-02-24 00:00:00  \n",
       "78     2017-07-20 00:00:00  \n",
       "...                    ...  \n",
       "84412  2017-06-01 00:00:00  \n",
       "84413  2017-04-03 00:00:00  \n",
       "84414  2017-04-28 00:00:00  \n",
       "84415  2017-04-24 00:00:00  \n",
       "84416  2017-06-19 00:00:00  \n",
       "\n",
       "[19052 rows x 20 columns]"
      ]
     },
     "execution_count": 187,
     "metadata": {},
     "output_type": "execute_result"
    }
   ],
   "source": [
    "df"
   ]
  },
  {
   "cell_type": "markdown",
   "id": "b84edf22",
   "metadata": {},
   "source": [
    "### Mean "
   ]
  },
  {
   "cell_type": "code",
   "execution_count": 188,
   "id": "58bcbbc6",
   "metadata": {
    "scrolled": true
   },
   "outputs": [
    {
     "data": {
      "text/html": [
       "<div>\n",
       "<style scoped>\n",
       "    .dataframe tbody tr th:only-of-type {\n",
       "        vertical-align: middle;\n",
       "    }\n",
       "\n",
       "    .dataframe tbody tr th {\n",
       "        vertical-align: top;\n",
       "    }\n",
       "\n",
       "    .dataframe thead th {\n",
       "        text-align: right;\n",
       "    }\n",
       "</style>\n",
       "<table border=\"1\" class=\"dataframe\">\n",
       "  <thead>\n",
       "    <tr style=\"text-align: right;\">\n",
       "      <th></th>\n",
       "      <th>TOTAL UNITS</th>\n",
       "    </tr>\n",
       "    <tr>\n",
       "      <th>BOROUGH</th>\n",
       "      <th></th>\n",
       "    </tr>\n",
       "  </thead>\n",
       "  <tbody>\n",
       "    <tr>\n",
       "      <th>Brooklyn</th>\n",
       "      <td>2.079888</td>\n",
       "    </tr>\n",
       "    <tr>\n",
       "      <th>Bronx</th>\n",
       "      <td>1.421384</td>\n",
       "    </tr>\n",
       "    <tr>\n",
       "      <th>Queens</th>\n",
       "      <td>1.265800</td>\n",
       "    </tr>\n",
       "    <tr>\n",
       "      <th>Manhattan</th>\n",
       "      <td>1.064482</td>\n",
       "    </tr>\n",
       "    <tr>\n",
       "      <th>Staten Island</th>\n",
       "      <td>1.016892</td>\n",
       "    </tr>\n",
       "  </tbody>\n",
       "</table>\n",
       "</div>"
      ],
      "text/plain": [
       "               TOTAL UNITS\n",
       "BOROUGH                   \n",
       "Brooklyn          2.079888\n",
       "Bronx             1.421384\n",
       "Queens            1.265800\n",
       "Manhattan         1.064482\n",
       "Staten Island     1.016892"
      ]
     },
     "execution_count": 188,
     "metadata": {},
     "output_type": "execute_result"
    }
   ],
   "source": [
    "mean = pd.DataFrame(df.groupby('BOROUGH')['TOTAL UNITS'].mean().sort_values(ascending=False))\n",
    "mean"
   ]
  },
  {
   "cell_type": "code",
   "execution_count": 189,
   "id": "44c7d17f",
   "metadata": {
    "scrolled": true
   },
   "outputs": [
    {
     "data": {
      "text/plain": [
       "Text(0, 0.5, 'Lokasi Unit')"
      ]
     },
     "execution_count": 189,
     "metadata": {},
     "output_type": "execute_result"
    },
    {
     "data": {
      "image/png": "[encoded data removed]",
      "text/plain": [
       "<Figure size 1440x720 with 1 Axes>"
      ]
     },
     "metadata": {},
     "output_type": "display_data"
    }
   ],
   "source": [
    "mean.plot(kind = \"barh\", figsize = (20,10))\n",
    "plt.title(\"Rata-rata Penjualan Unit Apartemen Berdasarkan Lokasi\")\n",
    "plt.xlabel(\"Rata - Rata Unit yang Terjual\")\n",
    "plt.ylabel(\"Lokasi Unit\")"
   ]
  },
  {
   "cell_type": "markdown",
   "id": "e8739b66",
   "metadata": {},
   "source": [
    "Brooklyn merupakan wilayah unit yang terjual terbanyak, diikuti dengan Bronx, dan Queens."
   ]
  },
  {
   "cell_type": "markdown",
   "id": "12d0b526",
   "metadata": {},
   "source": [
    "### Median "
   ]
  },
  {
   "cell_type": "code",
   "execution_count": 235,
   "id": "a3486684",
   "metadata": {},
   "outputs": [
    {
     "data": {
      "text/plain": [
       "Text(0, 0.5, 'Wilayah')"
      ]
     },
     "execution_count": 235,
     "metadata": {},
     "output_type": "execute_result"
    },
    {
     "data": {
      "image/png": "[encoded data removed]",
      "text/plain": [
       "<Figure size 1440x720 with 1 Axes>"
      ]
     },
     "metadata": {},
     "output_type": "display_data"
    }
   ],
   "source": [
    "median = pd.DataFrame(df.groupby('BOROUGH')['TOTAL UNITS'].mean().sort_values(ascending=False))\n",
    "median.plot(kind = \"barh\", figsize = (20,10))\n",
    "plt.title(\"Median Penjualan Unit Apartemen Berdasarkan Lokasi\")\n",
    "plt.xlabel(\"Median Unit yang Terjual\")\n",
    "plt.ylabel(\"Wilayah\")"
   ]
  },
  {
   "cell_type": "code",
   "execution_count": 234,
   "id": "7287be41",
   "metadata": {},
   "outputs": [
    {
     "data": {
      "text/plain": [
       "1.076923"
      ]
     },
     "execution_count": 234,
     "metadata": {},
     "output_type": "execute_result"
    }
   ],
   "source": [
    "median_of_sample_means = np.median(mean)\n",
    "median_of_sample_means"
   ]
  },
  {
   "cell_type": "markdown",
   "id": "bc66ddb9",
   "metadata": {},
   "source": [
    "Wilayah dengan median unit yang terjual terbanyak adalah Brooklyn, dengan perbedaan median setiap wilayah yaitu 1.07."
   ]
  },
  {
   "cell_type": "markdown",
   "id": "a05d8c2b",
   "metadata": {},
   "source": [
    "### Range"
   ]
  },
  {
   "cell_type": "code",
   "execution_count": 192,
   "id": "a15e99a9",
   "metadata": {},
   "outputs": [
    {
     "data": {
      "text/html": [
       "<div>\n",
       "<style scoped>\n",
       "    .dataframe tbody tr th:only-of-type {\n",
       "        vertical-align: middle;\n",
       "    }\n",
       "\n",
       "    .dataframe tbody tr th {\n",
       "        vertical-align: top;\n",
       "    }\n",
       "\n",
       "    .dataframe thead th {\n",
       "        text-align: right;\n",
       "    }\n",
       "</style>\n",
       "<table border=\"1\" class=\"dataframe\">\n",
       "  <thead>\n",
       "    <tr style=\"text-align: right;\">\n",
       "      <th></th>\n",
       "      <th>TOTAL UNITS</th>\n",
       "      <th>RANGE</th>\n",
       "    </tr>\n",
       "    <tr>\n",
       "      <th>BOROUGH</th>\n",
       "      <th></th>\n",
       "      <th></th>\n",
       "    </tr>\n",
       "  </thead>\n",
       "  <tbody>\n",
       "    <tr>\n",
       "      <th>Queens</th>\n",
       "      <td>4186</td>\n",
       "      <td>404</td>\n",
       "    </tr>\n",
       "    <tr>\n",
       "      <th>Brooklyn</th>\n",
       "      <td>12679</td>\n",
       "      <td>271</td>\n",
       "    </tr>\n",
       "    <tr>\n",
       "      <th>Manhattan</th>\n",
       "      <td>8964</td>\n",
       "      <td>145</td>\n",
       "    </tr>\n",
       "    <tr>\n",
       "      <th>Bronx</th>\n",
       "      <td>904</td>\n",
       "      <td>90</td>\n",
       "    </tr>\n",
       "    <tr>\n",
       "      <th>Staten Island</th>\n",
       "      <td>602</td>\n",
       "      <td>7</td>\n",
       "    </tr>\n",
       "  </tbody>\n",
       "</table>\n",
       "</div>"
      ],
      "text/plain": [
       "               TOTAL UNITS  RANGE\n",
       "BOROUGH                          \n",
       "Queens                4186    404\n",
       "Brooklyn             12679    271\n",
       "Manhattan             8964    145\n",
       "Bronx                  904     90\n",
       "Staten Island          602      7"
      ]
     },
     "execution_count": 192,
     "metadata": {},
     "output_type": "execute_result"
    }
   ],
   "source": [
    "range = pd.DataFrame(df.groupby('BOROUGH')['TOTAL UNITS'].sum())  \n",
    "range['RANGE'] = (df.groupby('BOROUGH')['TOTAL UNITS'].max())-(df.groupby('BOROUGH')['TOTAL UNITS'].min())\n",
    "range.sort_values(by='RANGE', ascending=False, inplace=True)\n",
    "range"
   ]
  },
  {
   "cell_type": "code",
   "execution_count": 193,
   "id": "d66bdee9",
   "metadata": {
    "scrolled": true
   },
   "outputs": [
    {
     "data": {
      "text/plain": [
       "Text(0, 0.5, 'Lokasi Unit')"
      ]
     },
     "execution_count": 193,
     "metadata": {},
     "output_type": "execute_result"
    },
    {
     "data": {
      "image/png": "[encoded data removed]",
      "text/plain": [
       "<Figure size 1440x720 with 1 Axes>"
      ]
     },
     "metadata": {},
     "output_type": "display_data"
    }
   ],
   "source": [
    "range.plot(kind = \"barh\", figsize = (20,10))\n",
    "plt.title(\"Rata-rata Penjualan Unit Apartemen Berdasarkan Lokasi\")\n",
    "plt.xlabel(\"Rata - Rata Unit yang Terjual\")\n",
    "plt.ylabel(\"Lokasi Unit\")"
   ]
  },
  {
   "cell_type": "code",
   "execution_count": 194,
   "id": "4ba20ba8",
   "metadata": {},
   "outputs": [
    {
     "data": {
      "text/plain": [
       "405"
      ]
     },
     "execution_count": 194,
     "metadata": {},
     "output_type": "execute_result"
    }
   ],
   "source": [
    "range = df['TOTAL UNITS'].to_numpy()\n",
    "np.ptp(range)"
   ]
  },
  {
   "cell_type": "markdown",
   "id": "aa0d5698",
   "metadata": {},
   "source": [
    "Wilayah dengan range tertinggi yaitu Queens, lalu diikuti dengan Brooklyn. Perbedaan nilai range untuk setiap wilayah yaitu 405."
   ]
  },
  {
   "cell_type": "markdown",
   "id": "83496771",
   "metadata": {},
   "source": [
    "### Variance"
   ]
  },
  {
   "cell_type": "code",
   "execution_count": 195,
   "id": "dbbff2bf",
   "metadata": {
    "scrolled": true
   },
   "outputs": [
    {
     "data": {
      "text/html": [
       "<div>\n",
       "<style scoped>\n",
       "    .dataframe tbody tr th:only-of-type {\n",
       "        vertical-align: middle;\n",
       "    }\n",
       "\n",
       "    .dataframe tbody tr th {\n",
       "        vertical-align: top;\n",
       "    }\n",
       "\n",
       "    .dataframe thead th {\n",
       "        text-align: right;\n",
       "    }\n",
       "</style>\n",
       "<table border=\"1\" class=\"dataframe\">\n",
       "  <thead>\n",
       "    <tr style=\"text-align: right;\">\n",
       "      <th></th>\n",
       "      <th>TOTAL UNITS</th>\n",
       "    </tr>\n",
       "    <tr>\n",
       "      <th>BUILDING CLASS CATEGORY</th>\n",
       "      <th></th>\n",
       "    </tr>\n",
       "  </thead>\n",
       "  <tbody>\n",
       "    <tr>\n",
       "      <th>11A CONDO-RENTALS</th>\n",
       "      <td>10167.243322</td>\n",
       "    </tr>\n",
       "    <tr>\n",
       "      <th>10 COOPS - ELEVATOR APARTMENTS</th>\n",
       "      <td>1404.500000</td>\n",
       "    </tr>\n",
       "    <tr>\n",
       "      <th>17 CONDO COOPS</th>\n",
       "      <td>1130.250000</td>\n",
       "    </tr>\n",
       "    <tr>\n",
       "      <th>08 RENTALS - ELEVATOR APARTMENTS</th>\n",
       "      <td>844.331551</td>\n",
       "    </tr>\n",
       "    <tr>\n",
       "      <th>07 RENTALS - WALKUP APARTMENTS</th>\n",
       "      <td>57.580569</td>\n",
       "    </tr>\n",
       "    <tr>\n",
       "      <th>14 RENTALS - 4-10 UNIT</th>\n",
       "      <td>2.819991</td>\n",
       "    </tr>\n",
       "    <tr>\n",
       "      <th>02 TWO FAMILY DWELLINGS</th>\n",
       "      <td>0.204678</td>\n",
       "    </tr>\n",
       "    <tr>\n",
       "      <th>31 COMMERCIAL VACANT LAND</th>\n",
       "      <td>0.200000</td>\n",
       "    </tr>\n",
       "    <tr>\n",
       "      <th>01 ONE FAMILY DWELLINGS</th>\n",
       "      <td>0.076923</td>\n",
       "    </tr>\n",
       "    <tr>\n",
       "      <th>42 CONDO CULTURAL/MEDICAL/EDUCATIONAL/ETC</th>\n",
       "      <td>0.000000</td>\n",
       "    </tr>\n",
       "    <tr>\n",
       "      <th>48 CONDO TERRACES/GARDENS/CABANAS</th>\n",
       "      <td>0.000000</td>\n",
       "    </tr>\n",
       "    <tr>\n",
       "      <th>47 CONDO NON-BUSINESS STORAGE</th>\n",
       "      <td>0.000000</td>\n",
       "    </tr>\n",
       "    <tr>\n",
       "      <th>46 CONDO STORE BUILDINGS</th>\n",
       "      <td>0.000000</td>\n",
       "    </tr>\n",
       "    <tr>\n",
       "      <th>45 CONDO HOTELS</th>\n",
       "      <td>0.000000</td>\n",
       "    </tr>\n",
       "    <tr>\n",
       "      <th>44 CONDO PARKING</th>\n",
       "      <td>0.000000</td>\n",
       "    </tr>\n",
       "    <tr>\n",
       "      <th>43 CONDO OFFICE BUILDINGS</th>\n",
       "      <td>0.000000</td>\n",
       "    </tr>\n",
       "    <tr>\n",
       "      <th>16 CONDOS - 2-10 UNIT WITH COMMERCIAL UNIT</th>\n",
       "      <td>0.000000</td>\n",
       "    </tr>\n",
       "    <tr>\n",
       "      <th>28 COMMERCIAL CONDOS</th>\n",
       "      <td>0.000000</td>\n",
       "    </tr>\n",
       "    <tr>\n",
       "      <th>15 CONDOS - 2-10 UNIT RESIDENTIAL</th>\n",
       "      <td>0.000000</td>\n",
       "    </tr>\n",
       "    <tr>\n",
       "      <th>13 CONDOS - ELEVATOR APARTMENTS</th>\n",
       "      <td>0.000000</td>\n",
       "    </tr>\n",
       "    <tr>\n",
       "      <th>12 CONDOS - WALKUP APARTMENTS</th>\n",
       "      <td>0.000000</td>\n",
       "    </tr>\n",
       "    <tr>\n",
       "      <th>04 TAX CLASS 1 CONDOS</th>\n",
       "      <td>0.000000</td>\n",
       "    </tr>\n",
       "    <tr>\n",
       "      <th>03 THREE FAMILY DWELLINGS</th>\n",
       "      <td>0.000000</td>\n",
       "    </tr>\n",
       "    <tr>\n",
       "      <th>49 CONDO WAREHOUSES/FACTORY/INDUS</th>\n",
       "      <td>0.000000</td>\n",
       "    </tr>\n",
       "    <tr>\n",
       "      <th>05 TAX CLASS 1 VACANT LAND</th>\n",
       "      <td>NaN</td>\n",
       "    </tr>\n",
       "    <tr>\n",
       "      <th>09 COOPS - WALKUP APARTMENTS</th>\n",
       "      <td>NaN</td>\n",
       "    </tr>\n",
       "    <tr>\n",
       "      <th>22 STORE BUILDINGS</th>\n",
       "      <td>NaN</td>\n",
       "    </tr>\n",
       "    <tr>\n",
       "      <th>32 HOSPITAL AND HEALTH FACILITIES</th>\n",
       "      <td>NaN</td>\n",
       "    </tr>\n",
       "    <tr>\n",
       "      <th>33 EDUCATIONAL FACILITIES</th>\n",
       "      <td>NaN</td>\n",
       "    </tr>\n",
       "    <tr>\n",
       "      <th>37 RELIGIOUS FACILITIES</th>\n",
       "      <td>NaN</td>\n",
       "    </tr>\n",
       "    <tr>\n",
       "      <th>38 ASYLUMS AND HOMES</th>\n",
       "      <td>NaN</td>\n",
       "    </tr>\n",
       "  </tbody>\n",
       "</table>\n",
       "</div>"
      ],
      "text/plain": [
       "                                               TOTAL UNITS\n",
       "BUILDING CLASS CATEGORY                                   \n",
       "11A CONDO-RENTALS                             10167.243322\n",
       "10 COOPS - ELEVATOR APARTMENTS                 1404.500000\n",
       "17 CONDO COOPS                                 1130.250000\n",
       "08 RENTALS - ELEVATOR APARTMENTS                844.331551\n",
       "07 RENTALS - WALKUP APARTMENTS                   57.580569\n",
       "14 RENTALS - 4-10 UNIT                            2.819991\n",
       "02 TWO FAMILY DWELLINGS                           0.204678\n",
       "31 COMMERCIAL VACANT LAND                         0.200000\n",
       "01 ONE FAMILY DWELLINGS                           0.076923\n",
       "42 CONDO CULTURAL/MEDICAL/EDUCATIONAL/ETC         0.000000\n",
       "48 CONDO TERRACES/GARDENS/CABANAS                 0.000000\n",
       "47 CONDO NON-BUSINESS STORAGE                     0.000000\n",
       "46 CONDO STORE BUILDINGS                          0.000000\n",
       "45 CONDO HOTELS                                   0.000000\n",
       "44 CONDO PARKING                                  0.000000\n",
       "43 CONDO OFFICE BUILDINGS                         0.000000\n",
       "16 CONDOS - 2-10 UNIT WITH COMMERCIAL UNIT        0.000000\n",
       "28 COMMERCIAL CONDOS                              0.000000\n",
       "15 CONDOS - 2-10 UNIT RESIDENTIAL                 0.000000\n",
       "13 CONDOS - ELEVATOR APARTMENTS                   0.000000\n",
       "12 CONDOS - WALKUP APARTMENTS                     0.000000\n",
       "04 TAX CLASS 1 CONDOS                             0.000000\n",
       "03 THREE FAMILY DWELLINGS                         0.000000\n",
       "49 CONDO WAREHOUSES/FACTORY/INDUS                 0.000000\n",
       "05 TAX CLASS 1 VACANT LAND                             NaN\n",
       "09 COOPS - WALKUP APARTMENTS                           NaN\n",
       "22 STORE BUILDINGS                                     NaN\n",
       "32 HOSPITAL AND HEALTH FACILITIES                      NaN\n",
       "33 EDUCATIONAL FACILITIES                              NaN\n",
       "37 RELIGIOUS FACILITIES                                NaN\n",
       "38 ASYLUMS AND HOMES                                   NaN"
      ]
     },
     "execution_count": 195,
     "metadata": {},
     "output_type": "execute_result"
    }
   ],
   "source": [
    "variance = pd.DataFrame(df.groupby('BUILDING CLASS CATEGORY')['TOTAL UNITS'].var(ddof = 1)) \n",
    "variance.sort_values(by='TOTAL UNITS', ascending=False, inplace=True)\n",
    "variance"
   ]
  },
  {
   "cell_type": "code",
   "execution_count": 196,
   "id": "cff009a0",
   "metadata": {
    "scrolled": true
   },
   "outputs": [
    {
     "data": {
      "text/plain": [
       "Text(0, 0.5, 'Kategori')"
      ]
     },
     "execution_count": 196,
     "metadata": {},
     "output_type": "execute_result"
    },
    {
     "data": {
      "image/png": "[encoded data removed]",
      "text/plain": [
       "<Figure size 1440x720 with 1 Axes>"
      ]
     },
     "metadata": {},
     "output_type": "display_data"
    }
   ],
   "source": [
    "variance.plot(kind = \"barh\", figsize = (20,10))\n",
    "plt.title(\"Variance Kategori Bangunan\")\n",
    "plt.xlabel(\"Unit\")\n",
    "plt.ylabel(\"Kategori\")"
   ]
  },
  {
   "cell_type": "code",
   "execution_count": 236,
   "id": "1d90ebb2",
   "metadata": {},
   "outputs": [
    {
     "data": {
      "text/plain": [
       "40.97296223713594"
      ]
     },
     "execution_count": 236,
     "metadata": {},
     "output_type": "execute_result"
    }
   ],
   "source": [
    "variance = df['TOTAL UNITS'].to_numpy()\n",
    "np.var(variance, ddof=1)"
   ]
  },
  {
   "cell_type": "markdown",
   "id": "ff2f4c07",
   "metadata": {},
   "source": [
    "11A Condo-Rentals merupakan variance tertinggi dengan ukuran penyebaran data yang paling besar. Variance pada kesuluruhan kategori bangunan adalah 40.9."
   ]
  },
  {
   "cell_type": "markdown",
   "id": "3a13e34f",
   "metadata": {},
   "source": [
    "### Standard Deviation "
   ]
  },
  {
   "cell_type": "code",
   "execution_count": 197,
   "id": "b803db23",
   "metadata": {
    "scrolled": false
   },
   "outputs": [
    {
     "data": {
      "text/html": [
       "<div>\n",
       "<style scoped>\n",
       "    .dataframe tbody tr th:only-of-type {\n",
       "        vertical-align: middle;\n",
       "    }\n",
       "\n",
       "    .dataframe tbody tr th {\n",
       "        vertical-align: top;\n",
       "    }\n",
       "\n",
       "    .dataframe thead th {\n",
       "        text-align: right;\n",
       "    }\n",
       "</style>\n",
       "<table border=\"1\" class=\"dataframe\">\n",
       "  <thead>\n",
       "    <tr style=\"text-align: right;\">\n",
       "      <th></th>\n",
       "      <th>TOTAL UNITS</th>\n",
       "    </tr>\n",
       "    <tr>\n",
       "      <th>BUILDING CLASS CATEGORY</th>\n",
       "      <th></th>\n",
       "    </tr>\n",
       "  </thead>\n",
       "  <tbody>\n",
       "    <tr>\n",
       "      <th>11A CONDO-RENTALS</th>\n",
       "      <td>10167.243322</td>\n",
       "    </tr>\n",
       "    <tr>\n",
       "      <th>10 COOPS - ELEVATOR APARTMENTS</th>\n",
       "      <td>1404.500000</td>\n",
       "    </tr>\n",
       "    <tr>\n",
       "      <th>17 CONDO COOPS</th>\n",
       "      <td>1130.250000</td>\n",
       "    </tr>\n",
       "    <tr>\n",
       "      <th>08 RENTALS - ELEVATOR APARTMENTS</th>\n",
       "      <td>844.331551</td>\n",
       "    </tr>\n",
       "    <tr>\n",
       "      <th>07 RENTALS - WALKUP APARTMENTS</th>\n",
       "      <td>57.580569</td>\n",
       "    </tr>\n",
       "    <tr>\n",
       "      <th>14 RENTALS - 4-10 UNIT</th>\n",
       "      <td>2.819991</td>\n",
       "    </tr>\n",
       "    <tr>\n",
       "      <th>02 TWO FAMILY DWELLINGS</th>\n",
       "      <td>0.204678</td>\n",
       "    </tr>\n",
       "    <tr>\n",
       "      <th>31 COMMERCIAL VACANT LAND</th>\n",
       "      <td>0.200000</td>\n",
       "    </tr>\n",
       "    <tr>\n",
       "      <th>01 ONE FAMILY DWELLINGS</th>\n",
       "      <td>0.076923</td>\n",
       "    </tr>\n",
       "    <tr>\n",
       "      <th>42 CONDO CULTURAL/MEDICAL/EDUCATIONAL/ETC</th>\n",
       "      <td>0.000000</td>\n",
       "    </tr>\n",
       "    <tr>\n",
       "      <th>48 CONDO TERRACES/GARDENS/CABANAS</th>\n",
       "      <td>0.000000</td>\n",
       "    </tr>\n",
       "    <tr>\n",
       "      <th>47 CONDO NON-BUSINESS STORAGE</th>\n",
       "      <td>0.000000</td>\n",
       "    </tr>\n",
       "    <tr>\n",
       "      <th>46 CONDO STORE BUILDINGS</th>\n",
       "      <td>0.000000</td>\n",
       "    </tr>\n",
       "    <tr>\n",
       "      <th>45 CONDO HOTELS</th>\n",
       "      <td>0.000000</td>\n",
       "    </tr>\n",
       "    <tr>\n",
       "      <th>44 CONDO PARKING</th>\n",
       "      <td>0.000000</td>\n",
       "    </tr>\n",
       "    <tr>\n",
       "      <th>43 CONDO OFFICE BUILDINGS</th>\n",
       "      <td>0.000000</td>\n",
       "    </tr>\n",
       "    <tr>\n",
       "      <th>16 CONDOS - 2-10 UNIT WITH COMMERCIAL UNIT</th>\n",
       "      <td>0.000000</td>\n",
       "    </tr>\n",
       "    <tr>\n",
       "      <th>28 COMMERCIAL CONDOS</th>\n",
       "      <td>0.000000</td>\n",
       "    </tr>\n",
       "    <tr>\n",
       "      <th>15 CONDOS - 2-10 UNIT RESIDENTIAL</th>\n",
       "      <td>0.000000</td>\n",
       "    </tr>\n",
       "    <tr>\n",
       "      <th>13 CONDOS - ELEVATOR APARTMENTS</th>\n",
       "      <td>0.000000</td>\n",
       "    </tr>\n",
       "    <tr>\n",
       "      <th>12 CONDOS - WALKUP APARTMENTS</th>\n",
       "      <td>0.000000</td>\n",
       "    </tr>\n",
       "    <tr>\n",
       "      <th>04 TAX CLASS 1 CONDOS</th>\n",
       "      <td>0.000000</td>\n",
       "    </tr>\n",
       "    <tr>\n",
       "      <th>03 THREE FAMILY DWELLINGS</th>\n",
       "      <td>0.000000</td>\n",
       "    </tr>\n",
       "    <tr>\n",
       "      <th>49 CONDO WAREHOUSES/FACTORY/INDUS</th>\n",
       "      <td>0.000000</td>\n",
       "    </tr>\n",
       "    <tr>\n",
       "      <th>05 TAX CLASS 1 VACANT LAND</th>\n",
       "      <td>NaN</td>\n",
       "    </tr>\n",
       "    <tr>\n",
       "      <th>09 COOPS - WALKUP APARTMENTS</th>\n",
       "      <td>NaN</td>\n",
       "    </tr>\n",
       "    <tr>\n",
       "      <th>22 STORE BUILDINGS</th>\n",
       "      <td>NaN</td>\n",
       "    </tr>\n",
       "    <tr>\n",
       "      <th>32 HOSPITAL AND HEALTH FACILITIES</th>\n",
       "      <td>NaN</td>\n",
       "    </tr>\n",
       "    <tr>\n",
       "      <th>33 EDUCATIONAL FACILITIES</th>\n",
       "      <td>NaN</td>\n",
       "    </tr>\n",
       "    <tr>\n",
       "      <th>37 RELIGIOUS FACILITIES</th>\n",
       "      <td>NaN</td>\n",
       "    </tr>\n",
       "    <tr>\n",
       "      <th>38 ASYLUMS AND HOMES</th>\n",
       "      <td>NaN</td>\n",
       "    </tr>\n",
       "  </tbody>\n",
       "</table>\n",
       "</div>"
      ],
      "text/plain": [
       "                                               TOTAL UNITS\n",
       "BUILDING CLASS CATEGORY                                   \n",
       "11A CONDO-RENTALS                             10167.243322\n",
       "10 COOPS - ELEVATOR APARTMENTS                 1404.500000\n",
       "17 CONDO COOPS                                 1130.250000\n",
       "08 RENTALS - ELEVATOR APARTMENTS                844.331551\n",
       "07 RENTALS - WALKUP APARTMENTS                   57.580569\n",
       "14 RENTALS - 4-10 UNIT                            2.819991\n",
       "02 TWO FAMILY DWELLINGS                           0.204678\n",
       "31 COMMERCIAL VACANT LAND                         0.200000\n",
       "01 ONE FAMILY DWELLINGS                           0.076923\n",
       "42 CONDO CULTURAL/MEDICAL/EDUCATIONAL/ETC         0.000000\n",
       "48 CONDO TERRACES/GARDENS/CABANAS                 0.000000\n",
       "47 CONDO NON-BUSINESS STORAGE                     0.000000\n",
       "46 CONDO STORE BUILDINGS                          0.000000\n",
       "45 CONDO HOTELS                                   0.000000\n",
       "44 CONDO PARKING                                  0.000000\n",
       "43 CONDO OFFICE BUILDINGS                         0.000000\n",
       "16 CONDOS - 2-10 UNIT WITH COMMERCIAL UNIT        0.000000\n",
       "28 COMMERCIAL CONDOS                              0.000000\n",
       "15 CONDOS - 2-10 UNIT RESIDENTIAL                 0.000000\n",
       "13 CONDOS - ELEVATOR APARTMENTS                   0.000000\n",
       "12 CONDOS - WALKUP APARTMENTS                     0.000000\n",
       "04 TAX CLASS 1 CONDOS                             0.000000\n",
       "03 THREE FAMILY DWELLINGS                         0.000000\n",
       "49 CONDO WAREHOUSES/FACTORY/INDUS                 0.000000\n",
       "05 TAX CLASS 1 VACANT LAND                             NaN\n",
       "09 COOPS - WALKUP APARTMENTS                           NaN\n",
       "22 STORE BUILDINGS                                     NaN\n",
       "32 HOSPITAL AND HEALTH FACILITIES                      NaN\n",
       "33 EDUCATIONAL FACILITIES                              NaN\n",
       "37 RELIGIOUS FACILITIES                                NaN\n",
       "38 ASYLUMS AND HOMES                                   NaN"
      ]
     },
     "execution_count": 197,
     "metadata": {},
     "output_type": "execute_result"
    }
   ],
   "source": [
    "sd = pd.DataFrame(df.groupby('BUILDING CLASS CATEGORY')['TOTAL UNITS'].var(ddof = 1)) \n",
    "sd.sort_values(by='TOTAL UNITS', ascending=False, inplace=True)\n",
    "sd"
   ]
  },
  {
   "cell_type": "code",
   "execution_count": 198,
   "id": "d59931aa",
   "metadata": {},
   "outputs": [
    {
     "data": {
      "text/plain": [
       "Text(0.5, 1.0, 'SD Kategori Bangunan')"
      ]
     },
     "execution_count": 198,
     "metadata": {},
     "output_type": "execute_result"
    },
    {
     "data": {
      "image/png": "[encoded data removed]",
      "text/plain": [
       "<Figure size 1440x720 with 1 Axes>"
      ]
     },
     "metadata": {},
     "output_type": "display_data"
    }
   ],
   "source": [
    "sd.plot(figsize=(20,10))\n",
    "plt.title(\"SD Kategori Bangunan\")"
   ]
  },
  {
   "cell_type": "code",
   "execution_count": 199,
   "id": "727358f1",
   "metadata": {},
   "outputs": [
    {
     "data": {
      "text/plain": [
       "6.401012594670935"
      ]
     },
     "execution_count": 199,
     "metadata": {},
     "output_type": "execute_result"
    }
   ],
   "source": [
    "sd = df['TOTAL UNITS'].to_numpy()\n",
    "np.std(sd,ddof=1)"
   ]
  },
  {
   "cell_type": "markdown",
   "id": "bc8a5b84",
   "metadata": {},
   "source": [
    "Standart Deviasi tertinggi yaitu jatuh kepada bangunan 11A Condo - Rentals, dengan perbedaan Standar Deviasi setiap bangunan yaitu 6.4 ."
   ]
  },
  {
   "cell_type": "markdown",
   "id": "87f9cef5",
   "metadata": {},
   "source": [
    "### Probability Distribution "
   ]
  },
  {
   "cell_type": "code",
   "execution_count": 202,
   "id": "930ff636",
   "metadata": {
    "scrolled": true
   },
   "outputs": [
    {
     "name": "stderr",
     "output_type": "stream",
     "text": [
      "/opt/anaconda3/lib/python3.8/site-packages/seaborn/distributions.py:2557: FutureWarning: `distplot` is a deprecated function and will be removed in a future version. Please adapt your code to use either `displot` (a figure-level function with similar flexibility) or `histplot` (an axes-level function for histograms).\n",
      "  warnings.warn(msg, FutureWarning)\n"
     ]
    },
    {
     "data": {
      "text/plain": [
       "[Text(0.5, 0, 'Total Units'), Text(0, 0.5, 'Frequency')]"
      ]
     },
     "execution_count": 202,
     "metadata": {},
     "output_type": "execute_result"
    },
    {
     "data": {
      "image/png": "[encoded data removed]",
      "text/plain": [
       "<Figure size 360x360 with 1 Axes>"
      ]
     },
     "metadata": {},
     "output_type": "display_data"
    }
   ],
   "source": [
    "ax = sns.distplot(df['TOTAL UNITS'],\n",
    "                 bins = 100,\n",
    "                 kde = True,\n",
    "                 color='skyblue',\n",
    "                 hist_kws={'linewidth':15, 'alpha':1})\n",
    "ax.set(xlabel=\"Total Units\", ylabel=\"Frequency\")"
   ]
  },
  {
   "cell_type": "markdown",
   "id": "8f7bacaa",
   "metadata": {},
   "source": [
    "Data merupakan data continuous."
   ]
  },
  {
   "cell_type": "markdown",
   "id": "66b51186",
   "metadata": {},
   "source": [
    "### Confidence Intervals "
   ]
  },
  {
   "cell_type": "code",
   "execution_count": 203,
   "id": "f7710a39",
   "metadata": {},
   "outputs": [
    {
     "data": {
      "text/html": [
       "<div>\n",
       "<style scoped>\n",
       "    .dataframe tbody tr th:only-of-type {\n",
       "        vertical-align: middle;\n",
       "    }\n",
       "\n",
       "    .dataframe tbody tr th {\n",
       "        vertical-align: top;\n",
       "    }\n",
       "\n",
       "    .dataframe thead tr th {\n",
       "        text-align: left;\n",
       "    }\n",
       "\n",
       "    .dataframe thead tr:last-of-type th {\n",
       "        text-align: right;\n",
       "    }\n",
       "</style>\n",
       "<table border=\"1\" class=\"dataframe\">\n",
       "  <thead>\n",
       "    <tr>\n",
       "      <th></th>\n",
       "      <th colspan=\"3\" halign=\"left\">TOTAL UNITS</th>\n",
       "    </tr>\n",
       "    <tr>\n",
       "      <th></th>\n",
       "      <th>mean</th>\n",
       "      <th>std</th>\n",
       "      <th>size</th>\n",
       "    </tr>\n",
       "    <tr>\n",
       "      <th>BUILDING CLASS CATEGORY</th>\n",
       "      <th></th>\n",
       "      <th></th>\n",
       "      <th></th>\n",
       "    </tr>\n",
       "  </thead>\n",
       "  <tbody>\n",
       "    <tr>\n",
       "      <th>01 ONE FAMILY DWELLINGS</th>\n",
       "      <td>1.076923</td>\n",
       "      <td>0.277350</td>\n",
       "      <td>13</td>\n",
       "    </tr>\n",
       "    <tr>\n",
       "      <th>02 TWO FAMILY DWELLINGS</th>\n",
       "      <td>2.263158</td>\n",
       "      <td>0.452414</td>\n",
       "      <td>19</td>\n",
       "    </tr>\n",
       "    <tr>\n",
       "      <th>03 THREE FAMILY DWELLINGS</th>\n",
       "      <td>3.000000</td>\n",
       "      <td>0.000000</td>\n",
       "      <td>37</td>\n",
       "    </tr>\n",
       "    <tr>\n",
       "      <th>04 TAX CLASS 1 CONDOS</th>\n",
       "      <td>1.000000</td>\n",
       "      <td>0.000000</td>\n",
       "      <td>1244</td>\n",
       "    </tr>\n",
       "    <tr>\n",
       "      <th>05 TAX CLASS 1 VACANT LAND</th>\n",
       "      <td>0.000000</td>\n",
       "      <td>NaN</td>\n",
       "      <td>1</td>\n",
       "    </tr>\n",
       "    <tr>\n",
       "      <th>07 RENTALS - WALKUP APARTMENTS</th>\n",
       "      <td>8.458333</td>\n",
       "      <td>7.588186</td>\n",
       "      <td>408</td>\n",
       "    </tr>\n",
       "    <tr>\n",
       "      <th>08 RENTALS - ELEVATOR APARTMENTS</th>\n",
       "      <td>57.176471</td>\n",
       "      <td>29.057384</td>\n",
       "      <td>34</td>\n",
       "    </tr>\n",
       "    <tr>\n",
       "      <th>09 COOPS - WALKUP APARTMENTS</th>\n",
       "      <td>8.000000</td>\n",
       "      <td>NaN</td>\n",
       "      <td>1</td>\n",
       "    </tr>\n",
       "    <tr>\n",
       "      <th>10 COOPS - ELEVATOR APARTMENTS</th>\n",
       "      <td>86.500000</td>\n",
       "      <td>37.476659</td>\n",
       "      <td>2</td>\n",
       "    </tr>\n",
       "    <tr>\n",
       "      <th>11A CONDO-RENTALS</th>\n",
       "      <td>62.023810</td>\n",
       "      <td>100.832749</td>\n",
       "      <td>42</td>\n",
       "    </tr>\n",
       "    <tr>\n",
       "      <th>12 CONDOS - WALKUP APARTMENTS</th>\n",
       "      <td>1.000000</td>\n",
       "      <td>0.000000</td>\n",
       "      <td>917</td>\n",
       "    </tr>\n",
       "    <tr>\n",
       "      <th>13 CONDOS - ELEVATOR APARTMENTS</th>\n",
       "      <td>1.000000</td>\n",
       "      <td>0.000000</td>\n",
       "      <td>12328</td>\n",
       "    </tr>\n",
       "    <tr>\n",
       "      <th>14 RENTALS - 4-10 UNIT</th>\n",
       "      <td>5.597015</td>\n",
       "      <td>1.679283</td>\n",
       "      <td>67</td>\n",
       "    </tr>\n",
       "    <tr>\n",
       "      <th>15 CONDOS - 2-10 UNIT RESIDENTIAL</th>\n",
       "      <td>1.000000</td>\n",
       "      <td>0.000000</td>\n",
       "      <td>1216</td>\n",
       "    </tr>\n",
       "    <tr>\n",
       "      <th>16 CONDOS - 2-10 UNIT WITH COMMERCIAL UNIT</th>\n",
       "      <td>1.000000</td>\n",
       "      <td>0.000000</td>\n",
       "      <td>94</td>\n",
       "    </tr>\n",
       "    <tr>\n",
       "      <th>17 CONDO COOPS</th>\n",
       "      <td>46.750000</td>\n",
       "      <td>33.619191</td>\n",
       "      <td>4</td>\n",
       "    </tr>\n",
       "    <tr>\n",
       "      <th>22 STORE BUILDINGS</th>\n",
       "      <td>1.000000</td>\n",
       "      <td>NaN</td>\n",
       "      <td>1</td>\n",
       "    </tr>\n",
       "    <tr>\n",
       "      <th>28 COMMERCIAL CONDOS</th>\n",
       "      <td>1.000000</td>\n",
       "      <td>0.000000</td>\n",
       "      <td>30</td>\n",
       "    </tr>\n",
       "    <tr>\n",
       "      <th>31 COMMERCIAL VACANT LAND</th>\n",
       "      <td>0.800000</td>\n",
       "      <td>0.447214</td>\n",
       "      <td>5</td>\n",
       "    </tr>\n",
       "    <tr>\n",
       "      <th>32 HOSPITAL AND HEALTH FACILITIES</th>\n",
       "      <td>1.000000</td>\n",
       "      <td>NaN</td>\n",
       "      <td>1</td>\n",
       "    </tr>\n",
       "    <tr>\n",
       "      <th>33 EDUCATIONAL FACILITIES</th>\n",
       "      <td>2.000000</td>\n",
       "      <td>NaN</td>\n",
       "      <td>1</td>\n",
       "    </tr>\n",
       "    <tr>\n",
       "      <th>37 RELIGIOUS FACILITIES</th>\n",
       "      <td>1.000000</td>\n",
       "      <td>NaN</td>\n",
       "      <td>1</td>\n",
       "    </tr>\n",
       "    <tr>\n",
       "      <th>38 ASYLUMS AND HOMES</th>\n",
       "      <td>1.000000</td>\n",
       "      <td>NaN</td>\n",
       "      <td>1</td>\n",
       "    </tr>\n",
       "    <tr>\n",
       "      <th>42 CONDO CULTURAL/MEDICAL/EDUCATIONAL/ETC</th>\n",
       "      <td>1.000000</td>\n",
       "      <td>0.000000</td>\n",
       "      <td>12</td>\n",
       "    </tr>\n",
       "    <tr>\n",
       "      <th>43 CONDO OFFICE BUILDINGS</th>\n",
       "      <td>1.000000</td>\n",
       "      <td>0.000000</td>\n",
       "      <td>456</td>\n",
       "    </tr>\n",
       "    <tr>\n",
       "      <th>44 CONDO PARKING</th>\n",
       "      <td>1.000000</td>\n",
       "      <td>0.000000</td>\n",
       "      <td>1335</td>\n",
       "    </tr>\n",
       "    <tr>\n",
       "      <th>45 CONDO HOTELS</th>\n",
       "      <td>1.000000</td>\n",
       "      <td>0.000000</td>\n",
       "      <td>204</td>\n",
       "    </tr>\n",
       "    <tr>\n",
       "      <th>46 CONDO STORE BUILDINGS</th>\n",
       "      <td>1.000000</td>\n",
       "      <td>0.000000</td>\n",
       "      <td>152</td>\n",
       "    </tr>\n",
       "    <tr>\n",
       "      <th>47 CONDO NON-BUSINESS STORAGE</th>\n",
       "      <td>1.000000</td>\n",
       "      <td>0.000000</td>\n",
       "      <td>349</td>\n",
       "    </tr>\n",
       "    <tr>\n",
       "      <th>48 CONDO TERRACES/GARDENS/CABANAS</th>\n",
       "      <td>1.000000</td>\n",
       "      <td>0.000000</td>\n",
       "      <td>47</td>\n",
       "    </tr>\n",
       "    <tr>\n",
       "      <th>49 CONDO WAREHOUSES/FACTORY/INDUS</th>\n",
       "      <td>1.000000</td>\n",
       "      <td>0.000000</td>\n",
       "      <td>30</td>\n",
       "    </tr>\n",
       "  </tbody>\n",
       "</table>\n",
       "</div>"
      ],
      "text/plain": [
       "                                             TOTAL UNITS                   \n",
       "                                                    mean         std   size\n",
       "BUILDING CLASS CATEGORY                                                    \n",
       "01 ONE FAMILY DWELLINGS                         1.076923    0.277350     13\n",
       "02 TWO FAMILY DWELLINGS                         2.263158    0.452414     19\n",
       "03 THREE FAMILY DWELLINGS                       3.000000    0.000000     37\n",
       "04 TAX CLASS 1 CONDOS                           1.000000    0.000000   1244\n",
       "05 TAX CLASS 1 VACANT LAND                      0.000000         NaN      1\n",
       "07 RENTALS - WALKUP APARTMENTS                  8.458333    7.588186    408\n",
       "08 RENTALS - ELEVATOR APARTMENTS               57.176471   29.057384     34\n",
       "09 COOPS - WALKUP APARTMENTS                    8.000000         NaN      1\n",
       "10 COOPS - ELEVATOR APARTMENTS                 86.500000   37.476659      2\n",
       "11A CONDO-RENTALS                              62.023810  100.832749     42\n",
       "12 CONDOS - WALKUP APARTMENTS                   1.000000    0.000000    917\n",
       "13 CONDOS - ELEVATOR APARTMENTS                 1.000000    0.000000  12328\n",
       "14 RENTALS - 4-10 UNIT                          5.597015    1.679283     67\n",
       "15 CONDOS - 2-10 UNIT RESIDENTIAL               1.000000    0.000000   1216\n",
       "16 CONDOS - 2-10 UNIT WITH COMMERCIAL UNIT      1.000000    0.000000     94\n",
       "17 CONDO COOPS                                 46.750000   33.619191      4\n",
       "22 STORE BUILDINGS                              1.000000         NaN      1\n",
       "28 COMMERCIAL CONDOS                            1.000000    0.000000     30\n",
       "31 COMMERCIAL VACANT LAND                       0.800000    0.447214      5\n",
       "32 HOSPITAL AND HEALTH FACILITIES               1.000000         NaN      1\n",
       "33 EDUCATIONAL FACILITIES                       2.000000         NaN      1\n",
       "37 RELIGIOUS FACILITIES                         1.000000         NaN      1\n",
       "38 ASYLUMS AND HOMES                            1.000000         NaN      1\n",
       "42 CONDO CULTURAL/MEDICAL/EDUCATIONAL/ETC       1.000000    0.000000     12\n",
       "43 CONDO OFFICE BUILDINGS                       1.000000    0.000000    456\n",
       "44 CONDO PARKING                                1.000000    0.000000   1335\n",
       "45 CONDO HOTELS                                 1.000000    0.000000    204\n",
       "46 CONDO STORE BUILDINGS                        1.000000    0.000000    152\n",
       "47 CONDO NON-BUSINESS STORAGE                   1.000000    0.000000    349\n",
       "48 CONDO TERRACES/GARDENS/CABANAS               1.000000    0.000000     47\n",
       "49 CONDO WAREHOUSES/FACTORY/INDUS               1.000000    0.000000     30"
      ]
     },
     "execution_count": 203,
     "metadata": {},
     "output_type": "execute_result"
    }
   ],
   "source": [
    "df.groupby('BUILDING CLASS CATEGORY').agg({\"TOTAL UNITS\" : [np.mean, np.std, np.size]})"
   ]
  },
  {
   "cell_type": "code",
   "execution_count": 204,
   "id": "a395c306",
   "metadata": {},
   "outputs": [],
   "source": [
    "#Mengambil Data 01 ONE FAMILY DWELLINGS \n",
    "mean = 1.076923\n",
    "sd = 0.277350\n",
    "n = 13\n",
    "z_score = 1.96"
   ]
  },
  {
   "cell_type": "code",
   "execution_count": 205,
   "id": "c7b7b357",
   "metadata": {},
   "outputs": [],
   "source": [
    "se = sd / np.sqrt(n)"
   ]
  },
  {
   "cell_type": "code",
   "execution_count": 207,
   "id": "b5a9c543",
   "metadata": {},
   "outputs": [
    {
     "data": {
      "text/plain": [
       "(0.9261538225653941, 1.227692177434606)"
      ]
     },
     "execution_count": 207,
     "metadata": {},
     "output_type": "execute_result"
    }
   ],
   "source": [
    "lcb = mean - z_score * se\n",
    "ucb = mean + z_score * se\n",
    "lcb,ucb"
   ]
  },
  {
   "cell_type": "markdown",
   "id": "4946dd2a",
   "metadata": {},
   "source": [
    "Dikarenakan kita mengambil data 01 ONE FAMILY DWELLINGS , maka CI 01 ONE FAMILY DWELLINGS adalah 0.9261538225653941 - 1.227692177434606"
   ]
  },
  {
   "cell_type": "markdown",
   "id": "2a0a85bb",
   "metadata": {},
   "source": [
    "### Hypothesis Testing "
   ]
  },
  {
   "cell_type": "markdown",
   "id": "c84e1010",
   "metadata": {},
   "source": [
    "#### Pearson's Correlation Coefficient\n",
    "\n"
   ]
  },
  {
   "cell_type": "code",
   "execution_count": 217,
   "id": "5de11c4d",
   "metadata": {},
   "outputs": [
    {
     "name": "stdout",
     "output_type": "stream",
     "text": [
      "stat=0.031, p=0.000\n",
      "Dependen\n"
     ]
    }
   ],
   "source": [
    "stat, p = pearsonr(df['TOTAL UNITS'], df['YEAR BUILT'])\n",
    "print('stat=%.3f, p=%.3f' %(stat,p))\n",
    "if p > 0.05:\n",
    "    print(\"Independen\")\n",
    "else:\n",
    "    print(\"Dependen\")"
   ]
  },
  {
   "cell_type": "markdown",
   "id": "f32449cd",
   "metadata": {},
   "source": [
    "Tidak memiliki relasi yang kuat dikarenakan, P memiliki value 0."
   ]
  },
  {
   "cell_type": "markdown",
   "id": "ab22d243",
   "metadata": {},
   "source": [
    "#### Spearman's Rank Correlation"
   ]
  },
  {
   "cell_type": "code",
   "execution_count": 218,
   "id": "27763a9f",
   "metadata": {},
   "outputs": [
    {
     "name": "stdout",
     "output_type": "stream",
     "text": [
      "stat = -0.106, p=0.000\n",
      "Dependen\n"
     ]
    }
   ],
   "source": [
    "stat, p = spearmanr(df['TOTAL UNITS'], df['YEAR BUILT'])\n",
    "print('stat = %.3f, p=%.3f'% (stat,p))\n",
    "if p > 0.05:\n",
    "    print(\"Independen\")\n",
    "else:\n",
    "    print(\"Dependen\")"
   ]
  },
  {
   "cell_type": "markdown",
   "id": "442b2c9f",
   "metadata": {},
   "source": [
    "Tidak memiliki relasi yang kuat dikarenakan, P memiliki value 0."
   ]
  },
  {
   "cell_type": "code",
   "execution_count": 220,
   "id": "bf8873f4",
   "metadata": {},
   "outputs": [
    {
     "data": {
      "text/plain": [
       "Text(0.5, 1.0, 'Variable Correlation')"
      ]
     },
     "execution_count": 220,
     "metadata": {},
     "output_type": "execute_result"
    },
    {
     "data": {
      "image/png": "[encoded data removed]",
      "text/plain": [
       "<Figure size 720x720 with 2 Axes>"
      ]
     },
     "metadata": {},
     "output_type": "display_data"
    }
   ],
   "source": [
    "corr = df.corr()\n",
    "f, ax = plt.subplots(figsize=(10,10))\n",
    "sns.heatmap(corr, cmap = 'coolwarm', square=True, annot= True, annot_kws={\"size\": 9})\n",
    "plt.title('Variable Correlation')"
   ]
  }
 ],
 "metadata": {
  "kernelspec": {
   "display_name": "Python 3",
   "language": "python",
   "name": "python3"
  },
  "language_info": {
   "codemirror_mode": {
    "name": "ipython",
    "version": 3
   },
   "file_extension": ".py",
   "mimetype": "text/x-python",
   "name": "python",
   "nbconvert_exporter": "python",
   "pygments_lexer": "ipython3",
   "version": "3.8.8"
  },
  "toc": {
   "base_numbering": 1,
   "nav_menu": {},
   "number_sections": true,
   "sideBar": true,
   "skip_h1_title": false,
   "title_cell": "Table of Contents",
   "title_sidebar": "Contents",
   "toc_cell": false,
   "toc_position": {},
   "toc_section_display": true,
   "toc_window_display": false
  }
 },
 "nbformat": 4,
 "nbformat_minor": 5
}
